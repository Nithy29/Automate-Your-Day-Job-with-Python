{
 "cells": [
  {
   "cell_type": "code",
   "execution_count": 19,
   "id": "b7e58d51-64c8-4729-a8d2-a0894ea0f7e6",
   "metadata": {},
   "outputs": [
    {
     "name": "stdout",
     "output_type": "stream",
     "text": [
      "C:/GitBash/python-homework/PyBank\\Analysis_output.txt\n",
      "Total Months: 86\n",
      "Total: $38,382,578.00\n",
      "Average Change: $-2,315.12\n",
      "Greatest Increase in Profits: Feb-2012 ($1,926,159.00)\n",
      "Greatest Decrease in Profits: Sep-2013 ($-2,196,167.00)\n"
     ]
    }
   ],
   "source": [
    "# imports files\n",
    "import pandas as pd\n",
    "import os as os\n",
    "from pathlib import Path\n",
    "\n",
    "#Directory in the local repository\n",
    "dir = \"C:/GitBash/python-homework/PyBank\"\n",
    "\n",
    "# set the output of the text file\n",
    "out_file = os.path.join(dir, \"Analysis_output.txt\")                #Set output file\n",
    "print(out_file)\n",
    "        \n",
    "readFile = os.path.join(dir, \"budget_data.csv\")                    #Set input file\n",
    "df = pd.read_csv(readFile, delimiter=',')                          # read the csv file into data frame variable df using delimiter ',' \n",
    "\n",
    "total_month = df['Date'].count()                                   #Calculate Total month by counting column 'Date'\n",
    "print(f\"Total Months: {total_month}\")                              #Print value of TotalMonth\n",
    "\n",
    "total_revenue = \"${:,.2f}\".format(df['Profit/Losses'].sum())       #Calculate Total revenue by adding column 'Profit/Losses'\n",
    "print(f\"Total: {total_revenue}\")                                   #Print total revenue - variable 'total'\n",
    "\n",
    "df['RevenueChange'] = df['Profit/Losses'].diff()                   #Calculate Rev difference between month 1 & month 2 in column 'RevenueChange'\n",
    "total_change_revenue = (df['RevenueChange'].sum())                 #Calculate Total Rev Difference by adding column 'RevenueChange'\n",
    "\n",
    "count_change_revenue_month = df['RevenueChange'].count()           #Need this value to calculate the AverageChange in revenue\n",
    "average_change = \"${:,.2f}\". format(total_change_revenue/count_change_revenue_month) #Calculate Average change in revenue\n",
    "print(f\"Average Change: {average_change}\")                          #Print Average Change value - variable hange'\n",
    "\n",
    "greatest_increase = df['RevenueChange'].max()                                             #Calculate GreatestIncrease on column 'RevenueChange'\n",
    "greatest_increase_date = df.loc[df['RevenueChange'] == greatest_increase, 'Date'].iloc[0] #Locate Greatest Increase Date in column 'Date'\n",
    "greatest_increase = \"${:,.2f}\".format(greatest_increase)                                  #Format value of 'GreatestIncrease' to 2 decimals                               \n",
    "print(f\"Greatest Increase in Profits: {greatest_increase_date} ({greatest_increase})\")    #Print to terminal - GreatestIncreaseDate, GreatestIncrease\n",
    "\n",
    "greatest_decrease = df['RevenueChange'].min()                                             #Calculate GreatestDecrease on column 'RevenueChange'\n",
    "greatest_decrease_date = df.loc[df['RevenueChange'] == greatest_decrease, 'Date'].iloc[0] #Locate GreatestDecrease Date in column 'Date'\n",
    "greatest_decrease = \"${:,.2f}\". format(greatest_decrease)                                 #Format value of 'GreatestDecrease' to 2 decimals\n",
    "print(f\"Greatest Decrease in Profits: {greatest_decrease_date} ({greatest_decrease})\")    #Print to terminal - GreatestDecreaseDate, GreatestDecrease\n",
    "\n",
    "\n",
    "#Write the results to file - Analysis_output.txt\n",
    "with open(out_file, 'w') as out_file:\n",
    "    out_file.write(\"                  Financial Analysis\\n\")\n",
    "    out_file.write(\"                   02-Python-PyBank\\n\")\n",
    "    out_file.write(\"                 --------------------\\n\")\n",
    "    out_file.write(\"\\n\")\n",
    "    out_file.write(\"\\n\")\n",
    "    out_file.write(\"Total Months: %d\" % total_month + \"\\n\")\n",
    "    out_file.write(\"Total Revenue: %s\" % total_revenue + \"\\n\")\n",
    "    out_file.write(\"Average Change: %s\" % average_change + \"\\n\")\n",
    "    out_file.write(\"Greatest Increase in Profits: %s\" % (greatest_increase_date) + \" %s\" %(greatest_increase) + \"\\n\")\n",
    "    out_file.write(\"Greatest Decrease in Profits: %s\" % (greatest_decrease_date) + \" %s\" %(greatest_decrease) + \"\\n\")\n",
    "    out_file.write(\"\\n\")\n",
    "    out_file.write(\"\\n\")\n",
    "    out_file.write(\" * * * * * * E N D  O F  R E P O R T * * * * * *\\n\")\n",
    "\n",
    "# Close the open file\n",
    "out_file.close()"
   ]
  },
  {
   "cell_type": "code",
   "execution_count": null,
   "id": "d895d60d-1436-43f1-a20b-00e87fd199e8",
   "metadata": {},
   "outputs": [],
   "source": []
  }
 ],
 "metadata": {
  "kernelspec": {
   "display_name": "Python 3 (ipykernel)",
   "language": "python",
   "name": "python3"
  },
  "language_info": {
   "codemirror_mode": {
    "name": "ipython",
    "version": 3
   },
   "file_extension": ".py",
   "mimetype": "text/x-python",
   "name": "python",
   "nbconvert_exporter": "python",
   "pygments_lexer": "ipython3",
   "version": "3.9.7"
  }
 },
 "nbformat": 4,
 "nbformat_minor": 5
}
