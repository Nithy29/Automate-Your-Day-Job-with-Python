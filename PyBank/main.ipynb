{
 "cells": [
  {
   "cell_type": "code",
   "execution_count": 5,
   "id": "b7e58d51-64c8-4729-a8d2-a0894ea0f7e6",
   "metadata": {},
   "outputs": [
    {
     "name": "stdout",
     "output_type": "stream",
     "text": [
      "Total Months: 86\n",
      "Total: $38,382,578.00\n",
      "Average Change: $-2,288.20\n",
      "Greatest Increase in Profits: Feb-2012 ($1,926,159.00)\n",
      "Greatest Decrease in Profits: Sep-2013 ($-2,196,167.00)\n"
     ]
    }
   ],
   "source": [
    "# imports files\n",
    "import pandas as pd\n",
    "\n",
    "# set the output of the text file\n",
    "outFpath = \"C:/GitBash/python-homework/PyBank/Analysis_output.txt\"\n",
    "\n",
    "# read the csv file into variable df\n",
    "df = pd.read_csv(\"C:/GitBash/python-homework/PyBank/budget_data.csv\", delimiter=',')\n",
    "\n",
    "TotalMonth = df['Profit/Losses'].count()                           #Calculate Total month \n",
    "print(f\"Total Months: {TotalMonth}\")\n",
    "\n",
    "total = \"${:,.2f}\". format(df['Profit/Losses'].sum())              #Calculate Total revenue\n",
    "print(f\"Total: {total}\")\n",
    "\n",
    "df['RevenueChange'] = df['Profit/Losses'].diff()                   #Calculate Rev difference column\n",
    "TotalChangeRevenue = (df['RevenueChange'].sum())                   #Calculate Total Rev Difference\n",
    "AverageChange = \"${:,.2f}\". format(TotalChangeRevenue/TotalMonth)  #Calculate Total Rev Chg Avag\n",
    "print(f\"Average Change: {AverageChange}\")\n",
    "\n",
    "GreatestIncrease = df['RevenueChange'].max()                                            #Calculate GreatestIncrease\n",
    "GreatestIncreaseDate = df.loc[df['RevenueChange'] == GreatestIncrease, 'Date'].iloc[0]  #Greatest Increase Date\n",
    "GreatestIncrease = \"${:,.2f}\". format(GreatestIncrease)                                 #Format to currency\n",
    "print(f\"Greatest Increase in Profits: {GreatestIncreaseDate} ({GreatestIncrease})\")\n",
    "\n",
    "GreatestDecrease = df['RevenueChange'].min()                                            #Calculate Greatest Decrease\n",
    "GreatestDecreaseDate = df.loc[df['RevenueChange'] == GreatestDecrease, 'Date'].iloc[0]  #Greatest Decrease Date\n",
    "GreatestDecrease = \"${:,.2f}\". format(GreatestDecrease)                                 #Format to currency\n",
    "print(f\"Greatest Decrease in Profits: {GreatestDecreaseDate} ({GreatestDecrease})\")\n",
    "\n",
    "#Write the results to file - Analysis_output.txt\n",
    "with open(outFpath, 'w') as outFile:\n",
    "    outFile.write(\"                  Financial Analysis\\n\")\n",
    "    outFile.write(\"                   02-Python-PyBank\\n\")\n",
    "    outFile.write(\"                  ---------------------\\n\")\n",
    "    outFile.write(\"\\n\")\n",
    "    outFile.write(\"\\n\")\n",
    "    outFile.write(\"Total Months: %d\" % TotalMonth + \"\\n\")\n",
    "    outFile.write(\"Total Revenue: %s\" % total + \"\\n\")\n",
    "    outFile.write(\"Average Change: %s\" % AverageChange + \"\\n\")\n",
    "    outFile.write(\"Greatest Increase in Profits: %s%s\" % (GreatestIncreaseDate, GreatestIncrease) + \"\\n\")\n",
    "    outFile.write(\"Greatest Decrease in Profits: %s%s\" % (GreatestDecreaseDate, GreatestDecrease) + \"\\n\")\n",
    "    outFile.write(\"\\n\")\n",
    "    outFile.write(\"\\n\")\n",
    "    outFile.write(\" * * * * * * E N D  O F  R E P O R T * * * * * *\\n\")\n",
    "\n",
    "# Close the open file\n",
    "outFile.close()"
   ]
  },
  {
   "cell_type": "code",
   "execution_count": null,
   "id": "8d5792f2-6037-4569-82f9-c10e246dc608",
   "metadata": {},
   "outputs": [],
   "source": []
  },
  {
   "cell_type": "code",
   "execution_count": null,
   "id": "03585984-9a41-4ed9-869a-8381c09b7157",
   "metadata": {},
   "outputs": [],
   "source": []
  }
 ],
 "metadata": {
  "kernelspec": {
   "display_name": "Python 3 (ipykernel)",
   "language": "python",
   "name": "python3"
  },
  "language_info": {
   "codemirror_mode": {
    "name": "ipython",
    "version": 3
   },
   "file_extension": ".py",
   "mimetype": "text/x-python",
   "name": "python",
   "nbconvert_exporter": "python",
   "pygments_lexer": "ipython3",
   "version": "3.7.11"
  }
 },
 "nbformat": 4,
 "nbformat_minor": 5
}
