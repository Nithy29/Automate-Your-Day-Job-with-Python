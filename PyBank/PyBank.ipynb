{
 "cells": [
  {
   "cell_type": "code",
   "execution_count": 64,
   "id": "b7e58d51-64c8-4729-a8d2-a0894ea0f7e6",
   "metadata": {},
   "outputs": [
    {
     "name": "stdout",
     "output_type": "stream",
     "text": [
      "C:/GitBash/python-homework/PyBank\\Analysis_output.txt\n",
      "Total Months: 86\n",
      "Total: $38,382,578.00\n",
      "Average Change: -2315.12\n",
      "Greatest Increase in Profits: Feb-2012 ($1,926,159.00)\n",
      "Greatest Decrease in Profits: Sep-2013 ($-2,196,167.00)\n"
     ]
    }
   ],
   "source": [
    "# imports files\n",
    "import pandas as pd\n",
    "import os as os\n",
    "from pathlib import Path\n",
    "\n",
    "#Directory in the local repository\n",
    "dir = \"C:/GitBash/python-homework/PyBank\"\n",
    "\n",
    "# set the output of the text file\n",
    "outFile = os.path.join(dir, \"Analysis_output.txt\")                 #Set output file\n",
    "print(outFile)\n",
    "        \n",
    "readFile = os.path.join(dir, \"budget_data.csv\")                    #Set input file\n",
    "df = pd.read_csv(readFile, delimiter=',')                          # read the csv file into variable df using delimiter ',' \n",
    "\n",
    "TotalMonth = df['Date'].count()                                    #Calculate Total month by counting column 'Date'\n",
    "print(f\"Total Months: {TotalMonth}\")                               #Print value of TotalMonth\n",
    "\n",
    "total = \"${:,.2f}\".format(df['Profit/Losses'].sum())               #Calculate Total revenue by adding column 'Profit/Losses'\n",
    "print(f\"Total: {total}\")                                           #Print total revenue - variable 'total'\n",
    "\n",
    "df['RevenueChange'] = df['Profit/Losses'].diff()                   #Calculate Rev difference between month 1 & month 2 in column 'RevenueChange'\n",
    "TotalChangeRevenue = (df['RevenueChange'].sum())                   #Calculate Total Rev Difference by adding column 'RevenueChange'\n",
    "#AverageChange = \"${:,.2f}\". format(TotalChangeRevenue/TotalMonth) #I thought that avarage is totalsum/total month.. But it seems wrong\n",
    "AverageChange = round(df['RevenueChange'].mean(), 2)               #Calculate Total Rev Chg Avag by getting the mean() value of column 'Change'\n",
    "print(f\"Average Change: {AverageChange}\")                          #Print Average Change value - variable hange'\n",
    "\n",
    "\n",
    "GreatestIncrease = df['RevenueChange'].max()                                            #Calculate GreatestIncrease on column 'RevenueChange'\n",
    "GreatestIncreaseDate = df.loc[df['RevenueChange'] == GreatestIncrease, 'Date'].iloc[0]  #Locate Greatest Increase Date in column 'Date'\n",
    "GreatestIncrease = \"${:,.2f}\".format(GreatestIncrease)                                  #Format value of 'GreatestIncrease' to 2 decimals\n",
    "\n",
    "#Format to currency and print variable 'GreatestIncreaseDate' & 'GreatestIncrease'\n",
    "print(f\"Greatest Increase in Profits: {GreatestIncreaseDate} ({GreatestIncrease})\")\n",
    "\n",
    "GreatestDecrease = df['RevenueChange'].min()                                            #Calculate Greatest Decrease\n",
    "GreatestDecreaseDate = df.loc[df['RevenueChange'] == GreatestDecrease, 'Date'].iloc[0]  #Greatest Decrease Date\n",
    "GreatestDecrease = \"${:,.2f}\". format(GreatestDecrease)                                 #Format to currency\n",
    "print(f\"Greatest Decrease in Profits: {GreatestDecreaseDate} ({GreatestDecrease})\")\n",
    "\n",
    "#Write the results to file - Analysis_output.txt\n",
    "with open(outFile, 'w') as outFile:\n",
    "    outFile.write(\"                  Financial Analysis\\n\")\n",
    "    outFile.write(\"                   02-Python-PyBank\\n\")\n",
    "    outFile.write(\"                 --------------------\\n\")\n",
    "    outFile.write(\"\\n\")\n",
    "    outFile.write(\"\\n\")\n",
    "    outFile.write(\"Total Months: %d\" % TotalMonth + \"\\n\")\n",
    "    outFile.write(\"Total Revenue: %s\" % total + \"\\n\")\n",
    "    outFile.write(\"Average Change: %s\" % AverageChange + \"\\n\")\n",
    "    outFile.write(\"Greatest Increase in Profits: %s\" % (GreatestIncreaseDate) + \" %s\" %(GreatestIncrease) + \"\\n\")\n",
    "    outFile.write(\"Greatest Decrease in Profits: %s\" % (GreatestDecreaseDate) + \" %s\" %(GreatestDecrease) + \"\\n\")\n",
    "    outFile.write(\"\\n\")\n",
    "    outFile.write(\"\\n\")\n",
    "    outFile.write(\" * * * * * * E N D  O F  R E P O R T * * * * * *\\n\")\n",
    "\n",
    "# Close the open file\n",
    "outFile.close()"
   ]
  }
 ],
 "metadata": {
  "kernelspec": {
   "display_name": "Python 3 (ipykernel)",
   "language": "python",
   "name": "python3"
  },
  "language_info": {
   "codemirror_mode": {
    "name": "ipython",
    "version": 3
   },
   "file_extension": ".py",
   "mimetype": "text/x-python",
   "name": "python",
   "nbconvert_exporter": "python",
   "pygments_lexer": "ipython3",
   "version": "3.7.11"
  }
 },
 "nbformat": 4,
 "nbformat_minor": 5
}
